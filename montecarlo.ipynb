{
 "cells": [
  {
   "cell_type": "code",
   "execution_count": 1,
   "metadata": {
    "collapsed": false
   },
   "outputs": [
   ],
   "source": [
    "import randomwalk as rw\n",
    "import numpy as np\n",
    "import matplotlib.pyplot as plt"
   ]
  },
  {
   "cell_type": "markdown",
   "metadata": {
    "collapsed": false
   },
   "source": [
    "# CW10 : Monte Carlo Techniques\n",
    "\n",
    "The word \"Monte Carlo\" is a fancy term for what essentially means \"using random numbers.\" Since computers are good at generating (pseudo)random numbers quickly, it can be advantageous to use this randomness for simulations. In this notebook, you will explore a few interesting examples of this idea.\n",
    "\n",
    "## Estimating $\\pi$\n",
    "As a simple example, consider the following technique for computing the number $\\pi$:\n",
    "  - Area of a unit circle : $\\pi$\n",
    "  - Area of a the minimum box that fits the unit circle, with side length 2 : $4$\n",
    "  - Fraction of area of the box taken up by the unit circle: $\\pi/4$\n",
    "  - Therefore: If one finds the fraction of random points that uniformly cover such a box that fall inside the unit circle, then multiplying this fraction by 4 will yield $\\pi$.\n",
    "\n",
    "Let's test this idea:"
   ]
  },
  {
   "cell_type": "code",
   "execution_count": 2,
   "metadata": {
    "collapsed": false
   },
   "outputs": [
   ],
   "source": [
    "def estimate_pi(N=100000):\n",
    "    # Generate N random x and y coordinates within the box with sides from [-2,2]\n",
    "    xs = np.random.uniform(-1,1,N)\n",
    "    ys = np.random.uniform(-1,1,N)\n",
    "    # Count how many points lie within the unit circle\n",
    "    circle = np.where(xs**2 + ys**2 < 1, 1, 0).sum()\n",
    "    # Compute pi\n",
    "    return 4 * circle / N"
   ]
  },
  {
   "cell_type": "code",
   "execution_count": 3,
   "metadata": {
    "collapsed": false
   },
   "outputs": [
    {
     "name": "stdout",
     "output_type": "stream",
     "text": [
      "N= 10  : pi= 2.8\n",
      "N= 100  : pi= 3.16\n",
      "N= 1000  : pi= 3.04\n",
      "N= 10000  : pi= 3.1492\n",
      "N= 100000  : pi= 3.14344\n",
      "N= 1000000  : pi= 3.143576\n"
     ]
    },
    {
     "name": "stdout",
     "output_type": "stream",
     "text": [
      "N= 10000000  : pi= 3.1416664\n"
     ]
    }
   ],
   "source": [
    "for N in [10, 100, 1000, 10000, 100000, 1000000, 10000000]:\n",
    "    print(\"N=\",N, \" : pi=\", estimate_pi(N))"
   ]
  },
  {
   "cell_type": "markdown",
   "metadata": {
    "collapsed": false
   },
   "source": [
    "Not bad for such a simple idea!"
   ]
  },
  {
   "cell_type": "markdown",
   "metadata": {
    "collapsed": false
   },
   "source": [
    "## Integrating a Function\n",
    "\n",
    "Consider the following definition for integrating a function $f(x)$ between $x\\in[a,b]$:"
   ]
  },
  {
   "cell_type": "code",
   "execution_count": 4,
   "metadata": {
    "collapsed": false
   },
   "outputs": [
   ],
   "source": [
    "def estimate_integral(f,a,b,N=100000):\n",
    "    xs = np.random.uniform(a,b,N)\n",
    "    return f(xs).sum() * (b-a)/N"
   ]
  },
  {
   "cell_type": "markdown",
   "metadata": {
    "collapsed": false
   },
   "source": [
    "What does this do? It generates $N$ randomly chosen points $x_i$ in the range $[a,b]$, then finds the average function value of all those points $\\bar{f} = \\sum_{i=1}^N f(x_i)/N$, then multiplies this average value by the interval length to find the area: $A = \\bar{f}*(b-a)$. This method relies upon the theorem in calculus that the integral is equal to the average value of the function over a domain times the domain itself (essentially approximating the whole integral as one big rectangle). Let's see how well it works in practice.\n",
    "\n",
    "Recall that $\\int_0^{2\\pi}\\sin(x)dx = 0$. Let's try to compute that using Monte Carlo methods:"
   ]
  },
  {
   "cell_type": "code",
   "execution_count": 5,
   "metadata": {
    "collapsed": false
   },
   "outputs": [
    {
     "data": {
      "text/markdown": [
       "<font color='red'>**Jupyter Kernel terminated:**</font> This might be caused by running out of memory or hitting a bug in some library (e.g., forking too many processes, trying to access invalid memory, etc.). Consider restarting or upgrading your project or running the relevant code directly in a terminal to track down the cause, as [explained here](https://github.com/sagemathinc/cocalc/wiki/KernelTerminated)."
      ]
     },
     "execution_count": 5,
     "metadata": {
     },
     "output_type": "execute_result"
    }
   ],
   "source": [
    "Ns = [10**i for i in range(5,9)]\n",
    "Is = [estimate_integral(np.sin, 0, 2*np.pi, n) for n in Ns]\n",
    "plt.semilogx(Ns,Is)\n",
    "plt.title(r\"$\\int_0^{2\\pi}\\sin(x)dx$ via Monte Carlo Integral\")\n",
    "plt.xlabel(\"N\")\n",
    "plt.ylabel(\"Estimation error\")\n",
    "plt.xlim(10**5,10**8)\n",
    "plt.show()"
   ]
  },
  {
   "cell_type": "markdown",
   "metadata": {
    "collapsed": false
   },
   "source": [
    "It does in fact converge eventually. Though this method is vastly less efficient than the trapezoid rule we have been using deterministically in 1D, it turns out that for higher dimensional integrals (like 10D) this stochastic technique can substantially outperform similar deterministic strategies."
   ]
  },
  {
   "cell_type": "markdown",
   "metadata": {
    "collapsed": false
   },
   "source": [
    "## Random Walks\n",
    "\n",
    "Where Monte Carlo methods really shine is in approximating behavior that is common in thermodynamics. For example, the air molecules in a room collide with each other constantly, effective jostling each other into random bits of short motion between collisions. Similarly, the molecules in a solid like a table vibrate and randomly exchange packets of energy as they essentially bump into each other - these packets of energy flow through the solid in the form of heat.\n",
    "\n",
    "If we don't care much about the details of the motion, but want to capture the overall effects of the random jostling, we can simulate random walks of particles.\n",
    "\n",
    "As a simple example, the following code places 100 particles at the origin of a 2D plane, then has them randomly walk around by taking integer steps in one of the four cardinal directions (E, W, N, S). The resulting animation shows their motion over time."
   ]
  },
  {
   "cell_type": "code",
   "execution_count": 0,
   "metadata": {
    "collapsed": false
   },
   "outputs": [
    {
     "data": {
      "text/markdown": [
       "<font color='red'>**Jupyter Kernel terminated:**</font> This might be caused by running out of memory or hitting a bug in some library (e.g., forking too many processes, trying to access invalid memory, etc.). Consider restarting or upgrading your project or running the relevant code directly in a terminal to track down the cause, as [explained here](https://github.com/sagemathinc/cocalc/wiki/KernelTerminated)."
      ]
     },
     "execution_count": 0,
     "metadata": {
     },
     "output_type": "execute_result"
    }
   ],
   "source": [
    "g = rw.walk_gen(walkers=100)"
   ]
  },
  {
   "cell_type": "code",
   "execution_count": 0,
   "metadata": {
    "collapsed": false,
    "scrolled": true
   },
   "outputs": [
    {
     "data": {
      "text/markdown": [
       "<font color='red'>**Jupyter Kernel terminated:**</font> This might be caused by running out of memory or hitting a bug in some library (e.g., forking too many processes, trying to access invalid memory, etc.). Consider restarting or upgrading your project or running the relevant code directly in a terminal to track down the cause, as [explained here](https://github.com/sagemathinc/cocalc/wiki/KernelTerminated)."
      ]
     },
     "execution_count": 0,
     "metadata": {
     },
     "output_type": "execute_result"
    }
   ],
   "source": [
    "rw.plot_anim(g, xlim=(-50,50), ylim=(-50,50), max_frames=200)"
   ]
  },
  {
   "cell_type": "markdown",
   "metadata": {
    "collapsed": false
   },
   "source": [
    "## Exercise\n",
    "\n",
    "Create a new random walk generator that prevents the particles from passing through a box with walls at $x=-20,20$ and $y=-20,20$.  To make things interesting, place a hole in your box at $x=20$ for the range $y\\in[-4,4]$ such that particles can wander freely in that region of the hole as before.  Make sure particles outside the box and inside the box cannot move through the box walls, but otherwise move freely.  Modify the animation function so that the initialization frame draws the boundaries of your box in addition to the particles."
   ]
  },
  {
   "cell_type": "code",
   "execution_count": 0,
   "metadata": {
    "collapsed": false
   },
   "outputs": [
    {
     "data": {
      "text/markdown": [
       "<font color='red'>**Jupyter Kernel terminated:**</font> This might be caused by running out of memory or hitting a bug in some library (e.g., forking too many processes, trying to access invalid memory, etc.). Consider restarting or upgrading your project or running the relevant code directly in a terminal to track down the cause, as [explained here](https://github.com/sagemathinc/cocalc/wiki/KernelTerminated)."
      ]
     },
     "execution_count": 0,
     "metadata": {
     },
     "output_type": "execute_result"
    }
   ],
   "source": [
    "rw.new_plot_anim(g, xlim=(-50,50), ylim=(-50,50), max_frames=200)"
   ]
  },
  {
   "cell_type": "code",
   "execution_count": 0,
   "metadata": {
    "collapsed": false
   },
   "outputs": [
   ],
   "source": [
   ]
  }
 ],
 "metadata": {
  "kernelspec": {
   "display_name": "Python 3 (Anaconda)",
   "language": "python",
   "name": "anaconda3"
  },
  "language_info": {
   "codemirror_mode": {
    "name": "ipython",
    "version": 3
   },
   "file_extension": ".py",
   "mimetype": "text/x-python",
   "name": "python",
   "nbconvert_exporter": "python",
   "pygments_lexer": "ipython3",
   "version": "3.5.5"
  }
 },
 "nbformat": 4,
 "nbformat_minor": 0
}